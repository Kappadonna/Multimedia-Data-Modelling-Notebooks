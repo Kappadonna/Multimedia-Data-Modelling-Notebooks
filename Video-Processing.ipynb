{
 "cells": [
  {
   "cell_type": "code",
   "execution_count": 4,
   "metadata": {},
   "outputs": [],
   "source": [
    "import cv2\n",
    "import numpy as np\n",
    "import os"
   ]
  },
  {
   "cell_type": "code",
   "execution_count": 6,
   "metadata": {},
   "outputs": [
    {
     "name": "stdout",
     "output_type": "stream",
     "text": [
      "Registrazione in corso... Premi 'q' per interrompere.\n",
      "Registrazione completata.\n",
      "Frame pari salvati: 0\n"
     ]
    }
   ],
   "source": [
    "# Funzione per creare un video usando la webcam\n",
    "def record_video(output_path, duration=5):\n",
    "    # Apri la webcam\n",
    "    cap = cv2.VideoCapture(0)\n",
    "    if not cap.isOpened():\n",
    "        print(\"Errore: Impossibile accedere alla webcam.\")\n",
    "        return\n",
    "    \n",
    "    # Imposta codec e parametri del video\n",
    "    fourcc = cv2.VideoWriter_fourcc(*'XVID')  # Codec per il file video\n",
    "    out = cv2.VideoWriter(output_path, fourcc, 60.0, (640, 480))  # 20 FPS, risoluzione 640x480\n",
    "    \n",
    "    print(\"Registrazione in corso... Premi 'q' per interrompere.\")\n",
    "    frame_count = 0\n",
    "    max_frames = duration * 20  # Calcola il numero massimo di frame (20 FPS per 5 secondi)\n",
    "    \n",
    "    while cap.isOpened() and frame_count < max_frames:\n",
    "        ret, frame = cap.read()\n",
    "        if not ret:\n",
    "            print(\"Errore durante la lettura dalla webcam.\")\n",
    "            break\n",
    "        out.write(frame)  # Salva il frame nel video\n",
    "        cv2.imshow('Recording', frame)  # Mostra il video in tempo reale\n",
    "        frame_count += 1\n",
    "        if cv2.waitKey(1) & 0xFF == ord('q'):\n",
    "            break\n",
    "    \n",
    "    # Rilascia risorse\n",
    "    cap.release()\n",
    "    out.release()\n",
    "    cv2.destroyAllWindows()\n",
    "    print(\"Registrazione completata.\")\n",
    "\n",
    "# Funzione per salvare solo i frame pari del video\n",
    "def save_even_frames(video_path, output_folder):\n",
    "    # Crea la cartella se non esiste\n",
    "    if not os.path.exists(output_folder):\n",
    "        os.makedirs(output_folder)\n",
    "    \n",
    "    # Apri il video\n",
    "    cap = cv2.VideoCapture(video_path)\n",
    "    if not cap.isOpened():\n",
    "        print(\"Errore: Impossibile aprire il video.\")\n",
    "        return\n",
    "    \n",
    "    frame_index = 0\n",
    "    saved_frames = 0\n",
    "    while True:\n",
    "        ret, frame = cap.read()\n",
    "        if not ret:\n",
    "            break\n",
    "        # Salva solo i frame pari\n",
    "        if frame_index % 2 == 0:\n",
    "            frame_filename = os.path.join(output_folder, f'frame_{frame_index:04d}.png')\n",
    "            cv2.imwrite(frame_filename, frame)\n",
    "            saved_frames += 1\n",
    "        frame_index += 1\n",
    "    \n",
    "    cap.release()\n",
    "    print(f\"Frame pari salvati: {saved_frames}\")\n",
    "\n",
    "# Percorsi e parametri\n",
    "video_output_path = \"output_video.avi\"\n",
    "frames_output_folder = \"frame\"  # Nome della cartella\n",
    "\n",
    "# Registra il video\n",
    "record_video(video_output_path, duration=5)  # Durata di 5 secondi\n",
    "\n",
    "# Salva i frame pari\n",
    "save_even_frames(video_output_path, frames_output_folder)"
   ]
  },
  {
   "cell_type": "code",
   "execution_count": null,
   "metadata": {},
   "outputs": [],
   "source": [
    "cam.release"
   ]
  }
 ],
 "metadata": {
  "kernelspec": {
   "display_name": ".venv",
   "language": "python",
   "name": "python3"
  },
  "language_info": {
   "codemirror_mode": {
    "name": "ipython",
    "version": 3
   },
   "file_extension": ".py",
   "mimetype": "text/x-python",
   "name": "python",
   "nbconvert_exporter": "python",
   "pygments_lexer": "ipython3",
   "version": "3.9.6"
  }
 },
 "nbformat": 4,
 "nbformat_minor": 2
}
