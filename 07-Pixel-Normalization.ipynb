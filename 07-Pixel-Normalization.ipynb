{
 "cells": [
  {
   "cell_type": "code",
   "execution_count": 21,
   "metadata": {},
   "outputs": [],
   "source": [
    "import numpy as np\n",
    "\n",
    "import random\n",
    "\n",
    "import cv2"
   ]
  },
  {
   "cell_type": "code",
   "execution_count": 2,
   "metadata": {},
   "outputs": [],
   "source": [
    "m = int(input(\"Select number of rows and cols\"))\n",
    "\n",
    "n = int(input(\"Select number of rows and cols\"))\n"
   ]
  },
  {
   "cell_type": "code",
   "execution_count": 3,
   "metadata": {},
   "outputs": [],
   "source": [
    "img = np.random.randint(-500, 500, (m, n))"
   ]
  },
  {
   "cell_type": "code",
   "execution_count": 4,
   "metadata": {},
   "outputs": [
    {
     "data": {
      "text/plain": [
       "array([[ 130, -177,  145,  -26,  207,  -35, -490,  410,  129,  223],\n",
       "       [ 300,  172, -154,  442,  210,  162,  278,  -15, -168, -295],\n",
       "       [ 385, -436,  481, -144, -500, -465,  132, -223,  418,  151],\n",
       "       [-481,  -40, -419, -236,  397,  469,    3,  203,  203,  452],\n",
       "       [ 376,  418,  -86,  175,  148, -455,  258, -324,  470, -204],\n",
       "       [  22,  189,  468,  173,    3, -270,  336,  198,  380,  140],\n",
       "       [-464, -410,  451,  148,  -70,  235,  203,  -99,  -86, -344],\n",
       "       [-343,  -17, -406, -179,  187, -246, -290, -468,  299, -240],\n",
       "       [-442,   75, -227,  -50,   72, -103, -155,  265,  273, -114],\n",
       "       [-234, -181, -459,   36, -201, -226, -119, -366,   22,  204]])"
      ]
     },
     "execution_count": 4,
     "metadata": {},
     "output_type": "execute_result"
    }
   ],
   "source": [
    "img"
   ]
  },
  {
   "cell_type": "code",
   "execution_count": 5,
   "metadata": {},
   "outputs": [
    {
     "name": "stdout",
     "output_type": "stream",
     "text": [
      "-500\n"
     ]
    }
   ],
   "source": [
    "minimum = np.min(img)\n",
    "\n",
    "print(minimum)"
   ]
  },
  {
   "cell_type": "code",
   "execution_count": 6,
   "metadata": {},
   "outputs": [
    {
     "name": "stdout",
     "output_type": "stream",
     "text": [
      "481\n"
     ]
    }
   ],
   "source": [
    "maximum = np.max(img)\n",
    "\n",
    "print(maximum)"
   ]
  },
  {
   "cell_type": "code",
   "execution_count": 7,
   "metadata": {},
   "outputs": [],
   "source": [
    "v_new = np.zeros((m, n), dtype = \"int32\")\n",
    "\n",
    "for i in range(m):\n",
    "    for j in range(n):\n",
    "        v_new[i, j] = 255 * ((img[i, j] - minimum)/ (maximum - minimum))"
   ]
  },
  {
   "cell_type": "code",
   "execution_count": 8,
   "metadata": {},
   "outputs": [
    {
     "data": {
      "text/plain": [
       "array([[163,  83, 167, 123, 183, 120,   2, 236, 163, 187],\n",
       "       [207, 174,  89, 244, 184, 172, 202, 126,  86,  53],\n",
       "       [230,  16, 255,  92,   0,   9, 164,  72, 238, 169],\n",
       "       [  4, 119,  21,  68, 233, 251, 130, 182, 182, 247],\n",
       "       [227, 238, 107, 175, 168,  11, 197,  45, 252,  76],\n",
       "       [135, 179, 251, 174, 130,  59, 217, 181, 228, 166],\n",
       "       [  9,  23, 247, 168, 111, 191, 182, 104, 107,  40],\n",
       "       [ 40, 125,  24,  83, 178,  66,  54,   8, 207,  67],\n",
       "       [ 15, 149,  70, 116, 148, 103,  89, 198, 200, 100],\n",
       "       [ 69,  82,  10, 139,  77,  71,  99,  34, 135, 182]], dtype=int32)"
      ]
     },
     "execution_count": 8,
     "metadata": {},
     "output_type": "execute_result"
    }
   ],
   "source": [
    "v_new"
   ]
  },
  {
   "cell_type": "raw",
   "metadata": {
    "vscode": {
     "languageId": "raw"
    }
   },
   "source": [
    "Esercizio n°2"
   ]
  },
  {
   "cell_type": "code",
   "execution_count": 9,
   "metadata": {},
   "outputs": [],
   "source": [
    "import matplotlib.pyplot as plt"
   ]
  },
  {
   "cell_type": "code",
   "execution_count": 10,
   "metadata": {},
   "outputs": [
    {
     "data": {
      "text/plain": [
       "array([[132, 127, 117,  36,  74,  65, 111,  74, 121, 114],\n",
       "       [ 34, 130, 121, 116, 145, 100, 149, 111,  88,  39],\n",
       "       [103,  48,  94,  97, 124,  91,  56,  66, 127,  57],\n",
       "       [ 58, 111, 133,  37, 141, 133, 104,  36,  73, 121],\n",
       "       [ 59, 145, 129,  45,  54,  45,  92,  89,  55, 118],\n",
       "       [ 79, 112,  96,  88, 110, 129,  78,  54, 116, 105],\n",
       "       [128,  78,  92, 109,  76,  57,  92,  99, 107, 138],\n",
       "       [ 43,  91,  48,  82,  80,  52,  58,  34,  30,  82],\n",
       "       [ 78, 121, 108,  67, 112,  91, 100,  54, 121,  57],\n",
       "       [141,  94,  33, 132, 142, 126,  38, 149, 116,  39]])"
      ]
     },
     "execution_count": 10,
     "metadata": {},
     "output_type": "execute_result"
    }
   ],
   "source": [
    "m = np.random.randint(30, 150, (10, 10))\n",
    "\n",
    "m"
   ]
  },
  {
   "cell_type": "code",
   "execution_count": 11,
   "metadata": {},
   "outputs": [],
   "source": [
    "# Histograms\n",
    "\n",
    "h = np.zeros(255)\n"
   ]
  },
  {
   "cell_type": "code",
   "execution_count": 12,
   "metadata": {},
   "outputs": [],
   "source": [
    "for i in range(m.shape[0]):\n",
    "    for j in range(m.shape[1]):\n",
    "        h[m[i, j]] += 1  #h[m[i, j]] = h[m[i, j]] + 1"
   ]
  },
  {
   "cell_type": "code",
   "execution_count": 13,
   "metadata": {},
   "outputs": [
    {
     "data": {
      "text/plain": [
       "array([0., 0., 0., 0., 0., 0., 0., 0., 0., 0., 0., 0., 0., 0., 0., 0., 0.,\n",
       "       0., 0., 0., 0., 0., 0., 0., 0., 0., 0., 0., 0., 0., 1., 0., 0., 1.,\n",
       "       2., 0., 2., 1., 1., 2., 0., 0., 0., 1., 0., 2., 0., 0., 2., 0., 0.,\n",
       "       0., 1., 0., 3., 1., 1., 3., 2., 1., 0., 0., 0., 0., 0., 1., 1., 1.,\n",
       "       0., 0., 0., 0., 0., 1., 2., 0., 1., 0., 3., 1., 1., 0., 2., 0., 0.,\n",
       "       0., 0., 0., 2., 1., 0., 3., 3., 0., 2., 0., 1., 1., 0., 1., 2., 0.,\n",
       "       0., 1., 1., 1., 0., 1., 1., 1., 1., 3., 2., 0., 1., 0., 3., 1., 1.,\n",
       "       0., 0., 5., 0., 0., 1., 0., 1., 2., 1., 2., 1., 0., 2., 2., 0., 0.,\n",
       "       0., 0., 1., 0., 0., 2., 1., 0., 0., 2., 0., 0., 0., 2., 0., 0., 0.,\n",
       "       0., 0., 0., 0., 0., 0., 0., 0., 0., 0., 0., 0., 0., 0., 0., 0., 0.,\n",
       "       0., 0., 0., 0., 0., 0., 0., 0., 0., 0., 0., 0., 0., 0., 0., 0., 0.,\n",
       "       0., 0., 0., 0., 0., 0., 0., 0., 0., 0., 0., 0., 0., 0., 0., 0., 0.,\n",
       "       0., 0., 0., 0., 0., 0., 0., 0., 0., 0., 0., 0., 0., 0., 0., 0., 0.,\n",
       "       0., 0., 0., 0., 0., 0., 0., 0., 0., 0., 0., 0., 0., 0., 0., 0., 0.,\n",
       "       0., 0., 0., 0., 0., 0., 0., 0., 0., 0., 0., 0., 0., 0., 0., 0., 0.])"
      ]
     },
     "execution_count": 13,
     "metadata": {},
     "output_type": "execute_result"
    }
   ],
   "source": [
    "h"
   ]
  },
  {
   "cell_type": "code",
   "execution_count": 14,
   "metadata": {},
   "outputs": [
    {
     "data": {
      "image/png": "[encoded data removed]",
      "text/plain": [
       "<Figure size 640x480 with 1 Axes>"
      ]
     },
     "metadata": {},
     "output_type": "display_data"
    }
   ],
   "source": [
    "plt.hist(h)\n",
    "\n",
    "plt.show()"
   ]
  },
  {
   "cell_type": "code",
   "execution_count": 15,
   "metadata": {},
   "outputs": [],
   "source": [
    "pr = np.zeros(255)\n",
    "\n",
    "for i in range(255):\n",
    "    pr[i] = h[i]/ (m.shape[0] * m.shape[1])"
   ]
  },
  {
   "cell_type": "raw",
   "metadata": {
    "vscode": {
     "languageId": "raw"
    }
   },
   "source": [
    "pr = h/(m.shape[0] * m.shape[1])"
   ]
  },
  {
   "cell_type": "code",
   "execution_count": 16,
   "metadata": {},
   "outputs": [
    {
     "data": {
      "text/plain": [
       "array([0.  , 0.  , 0.  , 0.  , 0.  , 0.  , 0.  , 0.  , 0.  , 0.  , 0.  ,\n",
       "       0.  , 0.  , 0.  , 0.  , 0.  , 0.  , 0.  , 0.  , 0.  , 0.  , 0.  ,\n",
       "       0.  , 0.  , 0.  , 0.  , 0.  , 0.  , 0.  , 0.  , 0.01, 0.  , 0.  ,\n",
       "       0.01, 0.02, 0.  , 0.02, 0.01, 0.01, 0.02, 0.  , 0.  , 0.  , 0.01,\n",
       "       0.  , 0.02, 0.  , 0.  , 0.02, 0.  , 0.  , 0.  , 0.01, 0.  , 0.03,\n",
       "       0.01, 0.01, 0.03, 0.02, 0.01, 0.  , 0.  , 0.  , 0.  , 0.  , 0.01,\n",
       "       0.01, 0.01, 0.  , 0.  , 0.  , 0.  , 0.  , 0.01, 0.02, 0.  , 0.01,\n",
       "       0.  , 0.03, 0.01, 0.01, 0.  , 0.02, 0.  , 0.  , 0.  , 0.  , 0.  ,\n",
       "       0.02, 0.01, 0.  , 0.03, 0.03, 0.  , 0.02, 0.  , 0.01, 0.01, 0.  ,\n",
       "       0.01, 0.02, 0.  , 0.  , 0.01, 0.01, 0.01, 0.  , 0.01, 0.01, 0.01,\n",
       "       0.01, 0.03, 0.02, 0.  , 0.01, 0.  , 0.03, 0.01, 0.01, 0.  , 0.  ,\n",
       "       0.05, 0.  , 0.  , 0.01, 0.  , 0.01, 0.02, 0.01, 0.02, 0.01, 0.  ,\n",
       "       0.02, 0.02, 0.  , 0.  , 0.  , 0.  , 0.01, 0.  , 0.  , 0.02, 0.01,\n",
       "       0.  , 0.  , 0.02, 0.  , 0.  , 0.  , 0.02, 0.  , 0.  , 0.  , 0.  ,\n",
       "       0.  , 0.  , 0.  , 0.  , 0.  , 0.  , 0.  , 0.  , 0.  , 0.  , 0.  ,\n",
       "       0.  , 0.  , 0.  , 0.  , 0.  , 0.  , 0.  , 0.  , 0.  , 0.  , 0.  ,\n",
       "       0.  , 0.  , 0.  , 0.  , 0.  , 0.  , 0.  , 0.  , 0.  , 0.  , 0.  ,\n",
       "       0.  , 0.  , 0.  , 0.  , 0.  , 0.  , 0.  , 0.  , 0.  , 0.  , 0.  ,\n",
       "       0.  , 0.  , 0.  , 0.  , 0.  , 0.  , 0.  , 0.  , 0.  , 0.  , 0.  ,\n",
       "       0.  , 0.  , 0.  , 0.  , 0.  , 0.  , 0.  , 0.  , 0.  , 0.  , 0.  ,\n",
       "       0.  , 0.  , 0.  , 0.  , 0.  , 0.  , 0.  , 0.  , 0.  , 0.  , 0.  ,\n",
       "       0.  , 0.  , 0.  , 0.  , 0.  , 0.  , 0.  , 0.  , 0.  , 0.  , 0.  ,\n",
       "       0.  , 0.  , 0.  , 0.  , 0.  , 0.  , 0.  , 0.  , 0.  , 0.  , 0.  ,\n",
       "       0.  , 0.  ])"
      ]
     },
     "execution_count": 16,
     "metadata": {},
     "output_type": "execute_result"
    }
   ],
   "source": [
    "pr"
   ]
  },
  {
   "cell_type": "raw",
   "metadata": {
    "vscode": {
     "languageId": "raw"
    }
   },
   "source": [
    "s = np.zeros(255)\n",
    "\n",
    "255/(m.shape[0]*m.shape[1]) * (pr[0])\n",
    "\n",
    "255/(m.shape[0]*m.shape[1]) * (pr[0] + pr[1])\n",
    "\n",
    "255/(m.shape[0]*m.shape[1]) * (pr[0] + pr[1] + pr[2])\n",
    "\n",
    "....\n",
    "\n",
    "255/(m.shape[0]*m.shape[1]) * (pr[0] + pr[1] + pr[2] + pr[n])"
   ]
  },
  {
   "cell_type": "code",
   "execution_count": 17,
   "metadata": {},
   "outputs": [],
   "source": [
    "s = np.zeros(255)"
   ]
  },
  {
   "cell_type": "code",
   "execution_count": 18,
   "metadata": {},
   "outputs": [],
   "source": [
    "for i in range(255):\n",
    "    sum = 0.0\n",
    "    for j in range(i):\n",
    "        sum += pr[j]\n",
    "    s[i] = (255 / (m.shape[0] * m.shape[1])) * sum"
   ]
  },
  {
   "cell_type": "code",
   "execution_count": 19,
   "metadata": {},
   "outputs": [
    {
     "name": "stdout",
     "output_type": "stream",
     "text": [
      "0.0\n",
      "0.0\n",
      "0.0\n",
      "0.0\n",
      "0.0\n",
      "0.0\n",
      "0.0\n",
      "0.0\n",
      "0.0\n",
      "0.0\n",
      "0.0\n",
      "0.0\n",
      "0.0\n",
      "0.0\n",
      "0.0\n",
      "0.0\n",
      "0.0\n",
      "0.0\n",
      "0.0\n",
      "0.0\n",
      "0.0\n",
      "0.0\n",
      "0.0\n",
      "0.0\n",
      "0.0\n",
      "0.0\n",
      "0.0\n",
      "0.0\n",
      "0.0\n",
      "0.0\n",
      "0.0\n",
      "0.0255\n",
      "0.0255\n",
      "0.0255\n",
      "0.051\n",
      "0.102\n",
      "0.102\n",
      "0.153\n",
      "0.17849999999999996\n",
      "0.20399999999999996\n",
      "0.25499999999999995\n",
      "0.25499999999999995\n",
      "0.25499999999999995\n",
      "0.25499999999999995\n",
      "0.28049999999999997\n",
      "0.28049999999999997\n",
      "0.3314999999999999\n",
      "0.3314999999999999\n",
      "0.3314999999999999\n",
      "0.3824999999999999\n",
      "0.3824999999999999\n",
      "0.3824999999999999\n",
      "0.3824999999999999\n",
      "0.4079999999999999\n",
      "0.4079999999999999\n",
      "0.4844999999999999\n",
      "0.5099999999999999\n",
      "0.5355\n",
      "0.612\n",
      "0.6629999999999999\n",
      "0.6885\n",
      "0.6885\n",
      "0.6885\n",
      "0.6885\n",
      "0.6885\n",
      "0.6885\n",
      "0.714\n",
      "0.7395\n",
      "0.765\n",
      "0.765\n",
      "0.765\n",
      "0.765\n",
      "0.765\n",
      "0.765\n",
      "0.7905000000000001\n",
      "0.8415000000000001\n",
      "0.8415000000000001\n",
      "0.8670000000000001\n",
      "0.8670000000000001\n",
      "0.9435000000000002\n",
      "0.9690000000000002\n",
      "0.9945000000000003\n",
      "0.9945000000000003\n",
      "1.0455000000000003\n",
      "1.0455000000000003\n",
      "1.0455000000000003\n",
      "1.0455000000000003\n",
      "1.0455000000000003\n",
      "1.0455000000000003\n",
      "1.0965000000000003\n",
      "1.1220000000000003\n",
      "1.1220000000000003\n",
      "1.1985000000000003\n",
      "1.2750000000000006\n",
      "1.2750000000000006\n",
      "1.3260000000000005\n",
      "1.3260000000000005\n",
      "1.3515000000000006\n",
      "1.3770000000000007\n",
      "1.3770000000000007\n",
      "1.4025000000000005\n",
      "1.4535000000000007\n",
      "1.4535000000000007\n",
      "1.4535000000000007\n",
      "1.4790000000000005\n",
      "1.5045000000000006\n",
      "1.5300000000000007\n",
      "1.5300000000000007\n",
      "1.5555000000000008\n",
      "1.5810000000000006\n",
      "1.6065000000000007\n",
      "1.6320000000000008\n",
      "1.7085000000000008\n",
      "1.759500000000001\n",
      "1.759500000000001\n",
      "1.7850000000000008\n",
      "1.7850000000000008\n",
      "1.861500000000001\n",
      "1.887000000000001\n",
      "1.912500000000001\n",
      "1.912500000000001\n",
      "1.912500000000001\n",
      "2.040000000000001\n",
      "2.040000000000001\n",
      "2.040000000000001\n",
      "2.065500000000001\n",
      "2.065500000000001\n",
      "2.091000000000001\n",
      "2.1420000000000012\n",
      "2.1675000000000013\n",
      "2.2185000000000015\n",
      "2.244000000000001\n",
      "2.244000000000001\n",
      "2.2950000000000013\n",
      "2.3460000000000014\n",
      "2.3460000000000014\n",
      "2.3460000000000014\n",
      "2.3460000000000014\n",
      "2.3460000000000014\n",
      "2.3715000000000015\n",
      "2.3715000000000015\n",
      "2.3715000000000015\n",
      "2.422500000000001\n",
      "2.4480000000000013\n",
      "2.4480000000000013\n",
      "2.4480000000000013\n",
      "2.4990000000000014\n",
      "2.4990000000000014\n",
      "2.4990000000000014\n",
      "2.4990000000000014\n",
      "2.5500000000000016\n",
      "2.5500000000000016\n",
      "2.5500000000000016\n",
      "2.5500000000000016\n",
      "2.5500000000000016\n",
      "2.5500000000000016\n",
      "2.5500000000000016\n",
      "2.5500000000000016\n",
      "2.5500000000000016\n",
      "2.5500000000000016\n",
      "2.5500000000000016\n",
      "2.5500000000000016\n",
      "2.5500000000000016\n",
      "2.5500000000000016\n",
      "2.5500000000000016\n",
      "2.5500000000000016\n",
      "2.5500000000000016\n",
      "2.5500000000000016\n",
      "2.5500000000000016\n",
      "2.5500000000000016\n",
      "2.5500000000000016\n",
      "2.5500000000000016\n",
      "2.5500000000000016\n",
      "2.5500000000000016\n",
      "2.5500000000000016\n",
      "2.5500000000000016\n",
      "2.5500000000000016\n",
      "2.5500000000000016\n",
      "2.5500000000000016\n",
      "2.5500000000000016\n",
      "2.5500000000000016\n",
      "2.5500000000000016\n",
      "2.5500000000000016\n",
      "2.5500000000000016\n",
      "2.5500000000000016\n",
      "2.5500000000000016\n",
      "2.5500000000000016\n",
      "2.5500000000000016\n",
      "2.5500000000000016\n",
      "2.5500000000000016\n",
      "2.5500000000000016\n",
      "2.5500000000000016\n",
      "2.5500000000000016\n",
      "2.5500000000000016\n",
      "2.5500000000000016\n",
      "2.5500000000000016\n",
      "2.5500000000000016\n",
      "2.5500000000000016\n",
      "2.5500000000000016\n",
      "2.5500000000000016\n",
      "2.5500000000000016\n",
      "2.5500000000000016\n",
      "2.5500000000000016\n",
      "2.5500000000000016\n",
      "2.5500000000000016\n",
      "2.5500000000000016\n",
      "2.5500000000000016\n",
      "2.5500000000000016\n",
      "2.5500000000000016\n",
      "2.5500000000000016\n",
      "2.5500000000000016\n",
      "2.5500000000000016\n",
      "2.5500000000000016\n",
      "2.5500000000000016\n",
      "2.5500000000000016\n",
      "2.5500000000000016\n",
      "2.5500000000000016\n",
      "2.5500000000000016\n",
      "2.5500000000000016\n",
      "2.5500000000000016\n",
      "2.5500000000000016\n",
      "2.5500000000000016\n",
      "2.5500000000000016\n",
      "2.5500000000000016\n",
      "2.5500000000000016\n",
      "2.5500000000000016\n",
      "2.5500000000000016\n",
      "2.5500000000000016\n",
      "2.5500000000000016\n",
      "2.5500000000000016\n",
      "2.5500000000000016\n",
      "2.5500000000000016\n",
      "2.5500000000000016\n",
      "2.5500000000000016\n",
      "2.5500000000000016\n",
      "2.5500000000000016\n",
      "2.5500000000000016\n",
      "2.5500000000000016\n",
      "2.5500000000000016\n",
      "2.5500000000000016\n",
      "2.5500000000000016\n",
      "2.5500000000000016\n",
      "2.5500000000000016\n",
      "2.5500000000000016\n",
      "2.5500000000000016\n",
      "2.5500000000000016\n",
      "2.5500000000000016\n",
      "2.5500000000000016\n",
      "2.5500000000000016\n",
      "2.5500000000000016\n",
      "2.5500000000000016\n",
      "2.5500000000000016\n",
      "2.5500000000000016\n",
      "2.5500000000000016\n",
      "2.5500000000000016\n"
     ]
    }
   ],
   "source": [
    "for i in range(255):\n",
    "    print(s[i])"
   ]
  },
  {
   "cell_type": "code",
   "execution_count": null,
   "metadata": {},
   "outputs": [
    {
     "ename": "IndentationError",
     "evalue": "expected an indented block (892628583.py, line 3)",
     "output_type": "error",
     "traceback": [
      "\u001b[0;36m  Cell \u001b[0;32mIn[20], line 3\u001b[0;36m\u001b[0m\n\u001b[0;31m    \u001b[0m\n\u001b[0m    ^\u001b[0m\n\u001b[0;31mIndentationError\u001b[0m\u001b[0;31m:\u001b[0m expected an indented block\n"
     ]
    }
   ],
   "source": []
  }
 ],
 "metadata": {
  "kernelspec": {
   "display_name": ".venv",
   "language": "python",
   "name": "python3"
  },
  "language_info": {
   "codemirror_mode": {
    "name": "ipython",
    "version": 3
   },
   "file_extension": ".py",
   "mimetype": "text/x-python",
   "name": "python",
   "nbconvert_exporter": "python",
   "pygments_lexer": "ipython3",
   "version": "3.9.6"
  }
 },
 "nbformat": 4,
 "nbformat_minor": 2
}
