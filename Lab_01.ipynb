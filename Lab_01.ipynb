{
 "cells": [
  {
   "cell_type": "markdown",
   "metadata": {},
   "source": [
    "The last printed expression in assigned to the variable \"_\""
   ]
  },
  {
   "cell_type": "code",
   "execution_count": 2,
   "metadata": {},
   "outputs": [],
   "source": [
    "tax = 12.5 / 100\n",
    "\n",
    "price = 100.5"
   ]
  },
  {
   "cell_type": "code",
   "execution_count": 3,
   "metadata": {},
   "outputs": [
    {
     "data": {
      "text/plain": [
       "12.5625"
      ]
     },
     "execution_count": 3,
     "metadata": {},
     "output_type": "execute_result"
    }
   ],
   "source": [
    "price * tax"
   ]
  },
  {
   "cell_type": "code",
   "execution_count": 4,
   "metadata": {},
   "outputs": [
    {
     "data": {
      "text/plain": [
       "113.0625"
      ]
     },
     "execution_count": 4,
     "metadata": {},
     "output_type": "execute_result"
    }
   ],
   "source": [
    "price + _"
   ]
  },
  {
   "cell_type": "code",
   "execution_count": 5,
   "metadata": {},
   "outputs": [
    {
     "data": {
      "text/plain": [
       "113.06"
      ]
     },
     "execution_count": 5,
     "metadata": {},
     "output_type": "execute_result"
    }
   ],
   "source": [
    "round(_, 2)"
   ]
  },
  {
   "cell_type": "markdown",
   "metadata": {},
   "source": [
    "Add, replace, remove e clear lists"
   ]
  },
  {
   "cell_type": "code",
   "execution_count": 6,
   "metadata": {},
   "outputs": [
    {
     "data": {
      "text/plain": [
       "[1, 4, 9, 16, 25]"
      ]
     },
     "execution_count": 6,
     "metadata": {},
     "output_type": "execute_result"
    }
   ],
   "source": [
    "squares = [1, 4, 9, 16, 25]\n",
    "\n",
    "squares"
   ]
  },
  {
   "cell_type": "code",
   "execution_count": 7,
   "metadata": {},
   "outputs": [
    {
     "data": {
      "text/plain": [
       "[1, 4, 9, 16, 25, 35]"
      ]
     },
     "execution_count": 7,
     "metadata": {},
     "output_type": "execute_result"
    }
   ],
   "source": [
    "squares.append(35)\n",
    "\n",
    "squares"
   ]
  },
  {
   "cell_type": "code",
   "execution_count": 8,
   "metadata": {},
   "outputs": [
    {
     "data": {
      "text/plain": [
       "[1, 4, 9, 16, 25, 36]"
      ]
     },
     "execution_count": 8,
     "metadata": {},
     "output_type": "execute_result"
    }
   ],
   "source": [
    "squares[5] = 36\n",
    "\n",
    "squares"
   ]
  },
  {
   "cell_type": "code",
   "execution_count": 9,
   "metadata": {},
   "outputs": [
    {
     "data": {
      "text/plain": [
       "[1, 4, 9, 25, 36]"
      ]
     },
     "execution_count": 9,
     "metadata": {},
     "output_type": "execute_result"
    }
   ],
   "source": [
    "squares[3:4] = []\n",
    "\n",
    "squares"
   ]
  },
  {
   "cell_type": "code",
   "execution_count": 10,
   "metadata": {},
   "outputs": [
    {
     "data": {
      "text/plain": [
       "[]"
      ]
     },
     "execution_count": 10,
     "metadata": {},
     "output_type": "execute_result"
    }
   ],
   "source": [
    "squares[:] = []\n",
    "\n",
    "squares"
   ]
  },
  {
   "cell_type": "markdown",
   "metadata": {},
   "source": [
    "Merged list"
   ]
  },
  {
   "cell_type": "code",
   "execution_count": 11,
   "metadata": {},
   "outputs": [
    {
     "data": {
      "text/plain": [
       "[[1, 2, 'ciao', 3], [4, 5, 6]]"
      ]
     },
     "execution_count": 11,
     "metadata": {},
     "output_type": "execute_result"
    }
   ],
   "source": [
    "a = [1, 2, 'ciao', 3]\n",
    "\n",
    "b = [4, 5, 6]\n",
    "\n",
    "c = [a, b]\n",
    "\n",
    "c"
   ]
  },
  {
   "cell_type": "code",
   "execution_count": 12,
   "metadata": {},
   "outputs": [
    {
     "data": {
      "text/plain": [
       "[1, 2, 'ciao', 3]"
      ]
     },
     "execution_count": 12,
     "metadata": {},
     "output_type": "execute_result"
    }
   ],
   "source": [
    "c[0]"
   ]
  },
  {
   "cell_type": "code",
   "execution_count": 13,
   "metadata": {},
   "outputs": [
    {
     "data": {
      "text/plain": [
       "'ciao'"
      ]
     },
     "execution_count": 13,
     "metadata": {},
     "output_type": "execute_result"
    }
   ],
   "source": [
    "c[0][2]"
   ]
  },
  {
   "cell_type": "markdown",
   "metadata": {},
   "source": [
    "Fibonacci sequence with while loop"
   ]
  },
  {
   "cell_type": "code",
   "execution_count": 14,
   "metadata": {},
   "outputs": [
    {
     "name": "stdout",
     "output_type": "stream",
     "text": [
      "0\n",
      "1\n",
      "1\n",
      "2\n",
      "3\n",
      "5\n",
      "8\n"
     ]
    }
   ],
   "source": [
    "a, b = 0, 1\n",
    "\n",
    "while a < 10:\n",
    "    print(a)\n",
    "    a, b = b, a+b"
   ]
  },
  {
   "cell_type": "code",
   "execution_count": 15,
   "metadata": {},
   "outputs": [
    {
     "name": "stdout",
     "output_type": "stream",
     "text": [
      "0,1,1,2,3,5,8,13,21,34,55,89,144,233,377,610,987,"
     ]
    }
   ],
   "source": [
    "a, b = 0, 1 \n",
    "\n",
    "while a < 1000:\n",
    "    print(a, end = ',')\n",
    "    a, b = b, a+b"
   ]
  },
  {
   "cell_type": "markdown",
   "metadata": {},
   "source": [
    "Iterate with range function over the indeces of a list"
   ]
  },
  {
   "cell_type": "code",
   "execution_count": 16,
   "metadata": {},
   "outputs": [],
   "source": [
    "colors = ['red', 'blue', 'green', 'yellow']"
   ]
  },
  {
   "cell_type": "code",
   "execution_count": 17,
   "metadata": {},
   "outputs": [
    {
     "name": "stdout",
     "output_type": "stream",
     "text": [
      "0 red , length = 3\n",
      "1 blue , length = 4\n",
      "2 green , length = 5\n",
      "3 yellow , length = 6\n"
     ]
    }
   ],
   "source": [
    "for i in range(len(colors)):\n",
    "    print(i, colors[i], ', length =', len(colors[i]))"
   ]
  },
  {
   "cell_type": "code",
   "execution_count": 18,
   "metadata": {},
   "outputs": [
    {
     "name": "stdout",
     "output_type": "stream",
     "text": [
      "3 it's a prime number\n",
      "4 equals 4 * 2\n",
      "5 it's a prime number\n",
      "5 it's a prime number\n",
      "5 it's a prime number\n",
      "6 equals 6 * 3\n",
      "7 it's a prime number\n",
      "7 it's a prime number\n",
      "7 it's a prime number\n",
      "7 it's a prime number\n",
      "7 it's a prime number\n",
      "8 equals 8 * 4\n",
      "9 it's a prime number\n",
      "9 equals 9 * 3\n"
     ]
    }
   ],
   "source": [
    "for n in range(2, 10):\n",
    "    for x in range(2, n):\n",
    "        if n % x == 0:\n",
    "            print(n, 'equals', n, '*', n//x )\n",
    "            break\n",
    "        else:\n",
    "            print(n, \"it's a prime number\")"
   ]
  },
  {
   "cell_type": "code",
   "execution_count": 19,
   "metadata": {},
   "outputs": [
    {
     "name": "stdout",
     "output_type": "stream",
     "text": [
      "Found an even number 2\n",
      "Found an odd number found 3\n",
      "Found an even number 4\n",
      "Found an odd number found 5\n",
      "Found an even number 6\n",
      "Found an odd number found 7\n",
      "Found an even number 8\n",
      "Found an odd number found 9\n"
     ]
    }
   ],
   "source": [
    "for n in range(2, 10):\n",
    "    if n % 2 == 0:\n",
    "        print(\"Found an even number\", n)\n",
    "        continue\n",
    "    print(\"Found an odd number found\", n)"
   ]
  },
  {
   "cell_type": "markdown",
   "metadata": {},
   "source": [
    "Functions"
   ]
  },
  {
   "cell_type": "code",
   "execution_count": 20,
   "metadata": {},
   "outputs": [
    {
     "name": "stdout",
     "output_type": "stream",
     "text": [
      "0 1 1 2 3 5 8 13 21 34 55 89 144 233 377 610 987 1597 \n"
     ]
    }
   ],
   "source": [
    "def fin(n):\n",
    "    a, b = 0, 1\n",
    "    while a < n:\n",
    "        print(a, end = (' '))\n",
    "        a, b = b, a + b\n",
    "    print()\n",
    "    \n",
    "fin(2000)"
   ]
  },
  {
   "cell_type": "code",
   "execution_count": 21,
   "metadata": {},
   "outputs": [
    {
     "data": {
      "text/plain": [
       "True"
      ]
     },
     "execution_count": 21,
     "metadata": {},
     "output_type": "execute_result"
    }
   ],
   "source": [
    "def ask_ok(prompt, retries = 4, reminder = 'Please try again'):\n",
    "    while True:\n",
    "        ok = input(prompt)\n",
    "        if ok in ('y', 'ye', 'yes'):\n",
    "            return True\n",
    "        if ok in ('n', 'no', 'nop', 'nope'):\n",
    "            return False\n",
    "        retries = -1\n",
    "        if retries < 0:\n",
    "            raise ValueError('invalid user response')\n",
    "        print(reminder)\n",
    "        \n",
    "ask_ok('Do you really want to quit?')"
   ]
  },
  {
   "cell_type": "markdown",
   "metadata": {},
   "source": [
    "Check the difference between \"append\" and \"extend\""
   ]
  },
  {
   "cell_type": "code",
   "execution_count": 30,
   "metadata": {},
   "outputs": [
    {
     "data": {
      "text/plain": [
       "[1, 2, 3, 4, [5, 6]]"
      ]
     },
     "execution_count": 30,
     "metadata": {},
     "output_type": "execute_result"
    }
   ],
   "source": [
    "l = [1, 2, 3, 4]\n",
    "\n",
    "l.append([5, 6])\n",
    "\n",
    "l"
   ]
  },
  {
   "cell_type": "code",
   "execution_count": 31,
   "metadata": {},
   "outputs": [
    {
     "data": {
      "text/plain": [
       "[1, 2, 3, 4, [5, 6], 1, 2, 3]"
      ]
     },
     "execution_count": 31,
     "metadata": {},
     "output_type": "execute_result"
    }
   ],
   "source": [
    "l.extend([1,2,3])\n",
    "\n",
    "l"
   ]
  },
  {
   "cell_type": "code",
   "execution_count": 32,
   "metadata": {},
   "outputs": [
    {
     "data": {
      "text/plain": [
       "['first place', 1, 2, 3, 4, [5, 6], 1, 2, 3, 'ciao']"
      ]
     },
     "execution_count": 32,
     "metadata": {},
     "output_type": "execute_result"
    }
   ],
   "source": [
    "l.insert(len(l), 'ciao') #using len(l) is equivalent to use l.append\n",
    "\n",
    "l.insert(0, 'first place')\n",
    "\n",
    "l"
   ]
  },
  {
   "cell_type": "code",
   "execution_count": 34,
   "metadata": {},
   "outputs": [
    {
     "data": {
      "text/plain": [
       "[1, 2, 3, 4, [5, 6], 1, 2, 3, 'ciao']"
      ]
     },
     "execution_count": 34,
     "metadata": {},
     "output_type": "execute_result"
    }
   ],
   "source": [
    "l.remove('first place')\n",
    "\n",
    "l"
   ]
  },
  {
   "cell_type": "code",
   "execution_count": 35,
   "metadata": {},
   "outputs": [
    {
     "data": {
      "text/plain": [
       "[1, 2, 3, 4, 1, 2, 3, 'ciao']"
      ]
     },
     "execution_count": 35,
     "metadata": {},
     "output_type": "execute_result"
    }
   ],
   "source": [
    "l.pop(4)\n",
    "\n",
    "l"
   ]
  },
  {
   "cell_type": "code",
   "execution_count": 36,
   "metadata": {},
   "outputs": [
    {
     "data": {
      "text/plain": [
       "3"
      ]
     },
     "execution_count": 36,
     "metadata": {},
     "output_type": "execute_result"
    }
   ],
   "source": [
    "l.index(4)"
   ]
  },
  {
   "cell_type": "code",
   "execution_count": 37,
   "metadata": {},
   "outputs": [
    {
     "data": {
      "text/plain": [
       "0"
      ]
     },
     "execution_count": 37,
     "metadata": {},
     "output_type": "execute_result"
    }
   ],
   "source": [
    "l.index(1)"
   ]
  },
  {
   "cell_type": "code",
   "execution_count": 40,
   "metadata": {},
   "outputs": [
    {
     "data": {
      "text/plain": [
       "4"
      ]
     },
     "execution_count": 40,
     "metadata": {},
     "output_type": "execute_result"
    }
   ],
   "source": [
    "l.index(1, 1)"
   ]
  },
  {
   "cell_type": "code",
   "execution_count": 42,
   "metadata": {},
   "outputs": [
    {
     "data": {
      "text/plain": [
       "'ciao'"
      ]
     },
     "execution_count": 42,
     "metadata": {},
     "output_type": "execute_result"
    }
   ],
   "source": [
    "l.pop()"
   ]
  },
  {
   "cell_type": "code",
   "execution_count": 44,
   "metadata": {},
   "outputs": [
    {
     "data": {
      "text/plain": [
       "[1, 1, 2, 2, 3, 3, 4]"
      ]
     },
     "execution_count": 44,
     "metadata": {},
     "output_type": "execute_result"
    }
   ],
   "source": [
    "l.sort()\n",
    "\n",
    "l"
   ]
  },
  {
   "cell_type": "code",
   "execution_count": 46,
   "metadata": {},
   "outputs": [
    {
     "data": {
      "text/plain": [
       "[1, 1, 2, 2, 3, 3, 4]"
      ]
     },
     "execution_count": 46,
     "metadata": {},
     "output_type": "execute_result"
    }
   ],
   "source": [
    "l.reverse()\n",
    "\n",
    "l"
   ]
  },
  {
   "cell_type": "code",
   "execution_count": 47,
   "metadata": {},
   "outputs": [
    {
     "data": {
      "text/plain": [
       "[1, 1, 2, 2, 3, 3, 4]"
      ]
     },
     "execution_count": 47,
     "metadata": {},
     "output_type": "execute_result"
    }
   ],
   "source": [
    "l.copy()"
   ]
  },
  {
   "cell_type": "markdown",
   "metadata": {},
   "source": [
    "We can build queues in python (first in, first out)"
   ]
  },
  {
   "cell_type": "code",
   "execution_count": 51,
   "metadata": {},
   "outputs": [
    {
     "data": {
      "text/plain": [
       "deque(['Ignazio', 'Enzo', 'Melo', 'Kappa'])"
      ]
     },
     "execution_count": 51,
     "metadata": {},
     "output_type": "execute_result"
    }
   ],
   "source": [
    "from collections import deque\n",
    " \n",
    "queue = deque(['Ignazio', 'Enzo', 'Melo'])\n",
    "\n",
    "queue.append('Kappa')\n",
    "\n",
    "queue"
   ]
  },
  {
   "cell_type": "code",
   "execution_count": 52,
   "metadata": {},
   "outputs": [
    {
     "data": {
      "text/plain": [
       "deque(['Enzo', 'Melo', 'Kappa'])"
      ]
     },
     "execution_count": 52,
     "metadata": {},
     "output_type": "execute_result"
    }
   ],
   "source": [
    "queue.popleft()\n",
    "\n",
    "queue"
   ]
  },
  {
   "cell_type": "markdown",
   "metadata": {},
   "source": [
    "List Comprehensions"
   ]
  },
  {
   "cell_type": "code",
   "execution_count": 54,
   "metadata": {},
   "outputs": [
    {
     "data": {
      "text/plain": [
       "[0, 1, 4, 9, 16, 25, 36, 49, 64, 81, 100]"
      ]
     },
     "execution_count": 54,
     "metadata": {},
     "output_type": "execute_result"
    }
   ],
   "source": [
    "squares = [x**2 for x in range (11)]\n",
    "\n",
    "squares"
   ]
  },
  {
   "cell_type": "code",
   "execution_count": 56,
   "metadata": {},
   "outputs": [
    {
     "data": {
      "text/plain": [
       "[(1, 2), (2, 1), (3, 1), (3, 2), (4, 1), (4, 2)]"
      ]
     },
     "execution_count": 56,
     "metadata": {},
     "output_type": "execute_result"
    }
   ],
   "source": [
    "combs = [(x, y) for x in range (1,5) for y in range(1,3) if x!=y]\n",
    "\n",
    "combs"
   ]
  },
  {
   "cell_type": "code",
   "execution_count": 58,
   "metadata": {},
   "outputs": [
    {
     "data": {
      "text/plain": [
       "[(1, 2),\n",
       " (1, 3),\n",
       " (2, 1),\n",
       " (2, 3),\n",
       " (3, 1),\n",
       " (3, 2),\n",
       " (4, 1),\n",
       " (4, 2),\n",
       " (4, 3),\n",
       " (5, 1),\n",
       " (5, 2),\n",
       " (5, 3)]"
      ]
     },
     "execution_count": 58,
     "metadata": {},
     "output_type": "execute_result"
    }
   ],
   "source": [
    "combs = [(x, y) for x in [1,2,3,4,5] for y in [1,2,3] if x != y]\n",
    "\n",
    "combs"
   ]
  },
  {
   "cell_type": "code",
   "execution_count": 1,
   "metadata": {},
   "outputs": [
    {
     "name": "stdout",
     "output_type": "stream",
     "text": [
      "5 is greater than  3\n"
     ]
    }
   ],
   "source": [
    "# Ex 1\n",
    "num_1 = int(input(\"Insert a number \"))\n",
    "\n",
    "num_2 = int(input(\"Insert a number \"))\n",
    "\n",
    "if num_1 > num_2:\n",
    "    print(num_1, \"is greater than \", num_2)\n",
    "elif num_1 < num_2:\n",
    "    print(num_2, \"is greater than \", num_1)\n",
    "else:\n",
    "    print(\"Same number\")"
   ]
  },
  {
   "cell_type": "code",
   "execution_count": 4,
   "metadata": {},
   "outputs": [
    {
     "name": "stdout",
     "output_type": "stream",
     "text": [
      "8\n"
     ]
    }
   ],
   "source": [
    "# Ex 2\n",
    "num_1 = int(input(\"Insert a number \"))\n",
    "\n",
    "num_2 = int(input(\"Insert a number \"))\n",
    "\n",
    "num_3 = int(input(\"Insert a number \"))\n",
    "\n",
    "numbers = []\n",
    "\n",
    "numbers.append(num_1)\n",
    "\n",
    "numbers.append(num_2)\n",
    "\n",
    "numbers.append(num_3)\n",
    "\n",
    "numbers.sort()\n",
    "\n",
    "print(numbers[len(numbers) - 1])\n"
   ]
  },
  {
   "cell_type": "code",
   "execution_count": 20,
   "metadata": {},
   "outputs": [
    {
     "name": "stdout",
     "output_type": "stream",
     "text": [
      "45\n"
     ]
    }
   ],
   "source": [
    "numbers = [1, 2, 3, 4, 5, 6, 7, 8, 9]\n",
    "\n",
    "total = 0\n",
    "\n",
    "for i in range(len(numbers)):\n",
    "    total += numbers[i]\n",
    "    \n",
    "print(total) "
   ]
  },
  {
   "cell_type": "code",
   "execution_count": 24,
   "metadata": {},
   "outputs": [
    {
     "name": "stdout",
     "output_type": "stream",
     "text": [
      "3\n"
     ]
    }
   ],
   "source": [
    "guess = input(\"guess a fruit in the cart\")\n",
    "\n",
    "cart = ['apple', 'pear', 'ananas', 'mango', 'strawsberry']\n",
    "\n",
    "if guess in cart:\n",
    "    print(cart.index(guess))\n",
    "else:\n",
    "    print(f\"{guess} not in the cart\")\n",
    "    \n",
    "    \n"
   ]
  },
  {
   "cell_type": "code",
   "execution_count": 28,
   "metadata": {},
   "outputs": [
    {
     "name": "stdout",
     "output_type": "stream",
     "text": [
      "***\n",
      "****\n",
      "******\n",
      "***\n",
      "********\n",
      "*********\n"
     ]
    }
   ],
   "source": [
    "numbers = [3, 4, 6, 3, 8, 9]\n",
    "\n",
    "def print_histogram(numbers):\n",
    "    for number in numbers:\n",
    "        print(f'{\"*\" * number}')\n",
    "\n",
    "print_histogram(numbers)"
   ]
  },
  {
   "cell_type": "code",
   "execution_count": 30,
   "metadata": {},
   "outputs": [
    {
     "name": "stdout",
     "output_type": "stream",
     "text": [
      "['ciao', 'come', 'va', 'la', 'crociera', '?']\n",
      "[4, 4, 2, 2, 8, 1]\n"
     ]
    }
   ],
   "source": [
    "words = ['ciao', 'come', 'va', 'la', 'crociera', '?']\n",
    "\n",
    "lenght_words = []\n",
    "\n",
    "def len_w(list_1, list_2):\n",
    "    for word in list_1:\n",
    "        list_2.append(len(word))\n",
    "    print(list_1)\n",
    "    print(list_2)\n",
    "\n",
    "len_w(words, lenght_words)        \n"
   ]
  },
  {
   "cell_type": "code",
   "execution_count": 41,
   "metadata": {},
   "outputs": [
    {
     "data": {
      "text/plain": [
       "'9R:41:8E:6E:6G:96'"
      ]
     },
     "execution_count": 41,
     "metadata": {},
     "output_type": "execute_result"
    }
   ],
   "source": [
    "from random import randint, choice\n",
    "\n",
    "def generate_mac():\n",
    "    mac = []\n",
    "    num = [1,2,3,4,5,6,7,8,9]\n",
    "    letters = \"ABCDEFGHIJKLMNOPQRSTUVWXYZ\"\n",
    "    for _ in range(6):\n",
    "        if random.choice([True, False]):\n",
    "            pair = f'{choice(num)}{choice(letters)}'\n",
    "        else:\n",
    "            pair = f'{choice(num)}{choice(num)}'\n",
    "        mac.append(pair)\n",
    "    return ':'.join(mac)\n",
    "\n",
    "generate_mac()"
   ]
  },
  {
   "cell_type": "markdown",
   "metadata": {},
   "source": [
    "'red', 'blue', 'yellow', 'purple', 'pink', 'white', 'black'"
   ]
  },
  {
   "cell_type": "code",
   "execution_count": 51,
   "metadata": {},
   "outputs": [
    {
     "name": "stdout",
     "output_type": "stream",
     "text": [
      "blue\n",
      "black\n"
     ]
    }
   ],
   "source": [
    "colors = []\n",
    "\n",
    "for _ in range(10):\n",
    "    ask = input('select a color')\n",
    "    colors.append(ask)\n",
    "guess = input('select a letter')\n",
    "for color in colors:\n",
    "    if color[0] == guess:\n",
    "        print(color)\n",
    "        \n",
    "            \n",
    "        \n",
    "            \n",
    "\n"
   ]
  },
  {
   "cell_type": "code",
   "execution_count": 7,
   "metadata": {},
   "outputs": [
    {
     "data": {
      "text/plain": [
       "['ciao', 'ccc', 'dsg']"
      ]
     },
     "execution_count": 7,
     "metadata": {},
     "output_type": "execute_result"
    }
   ],
   "source": [
    "def input_until_enter():\n",
    "    inputs = []\n",
    "    while True:\n",
    "        word = input(\"Type something (or press ENTER to stop): \")\n",
    "        if word == '':\n",
    "            break\n",
    "        inputs.append(word)\n",
    "    return inputs\n",
    "\n",
    "input_until_enter()"
   ]
  },
  {
   "cell_type": "code",
   "execution_count": 8,
   "metadata": {},
   "outputs": [
    {
     "data": {
      "text/plain": [
       "'oaic'"
      ]
     },
     "execution_count": 8,
     "metadata": {},
     "output_type": "execute_result"
    }
   ],
   "source": [
    "def reverse_string(word):\n",
    "    return word[::-1]\n",
    "\n",
    "reverse_string('ciao')"
   ]
  },
  {
   "cell_type": "code",
   "execution_count": 11,
   "metadata": {},
   "outputs": [
    {
     "name": "stdout",
     "output_type": "stream",
     "text": [
      "bordello\n",
      "fardello\n",
      "pomello\n"
     ]
    }
   ],
   "source": [
    "def check_rhyme(user_input, list):\n",
    "    for word in list:\n",
    "        if word[-3:] == user_input[-3:]:\n",
    "            print(word)\n",
    "            \n",
    "u_input = input(\"try with a word\")\n",
    "\n",
    "l = ['bordello', 'fardello', 'cucina', 'pianta', 'computer' ,'pomello']\n",
    "\n",
    "check_rhyme(u_input,l)"
   ]
  },
  {
   "cell_type": "code",
   "execution_count": 24,
   "metadata": {},
   "outputs": [
    {
     "name": "stdout",
     "output_type": "stream",
     "text": [
      "{'book_1': 1, 'book_2': 4, 'book_3': 7, 'book_4': 2}\n",
      "Successfull sale\n",
      "Book 'book_1' not found in the book shelf.\n"
     ]
    },
    {
     "data": {
      "text/plain": [
       "['book_1']"
      ]
     },
     "execution_count": 24,
     "metadata": {},
     "output_type": "execute_result"
    }
   ],
   "source": [
    "book_shelf = dict([('book_1', 1), ('book_2', 4), ('book_3', 7), ('book_4', 2)])\n",
    "\n",
    "print(book_shelf)\n",
    "\n",
    "selection = input('select a book')\n",
    "\n",
    "def sell_book(d, input):\n",
    "    to_be_ordered = []\n",
    "    if input in d:\n",
    "        while d[input] > 0:\n",
    "            d[input] -= 1 \n",
    "            print('Successfull sale')\n",
    "        else:\n",
    "            print(f\"Book '{input}' not found in the book shelf.\")\n",
    "            to_be_ordered.append(input)\n",
    "    return d and to_be_ordered\n",
    "        \n",
    "        \n",
    "sell_book(book_shelf, selection)"
   ]
  }
 ],
 "metadata": {
  "kernelspec": {
   "display_name": "Python 3",
   "language": "python",
   "name": "python3"
  },
  "language_info": {
   "codemirror_mode": {
    "name": "ipython",
    "version": 3
   },
   "file_extension": ".py",
   "mimetype": "text/x-python",
   "name": "python",
   "nbconvert_exporter": "python",
   "pygments_lexer": "ipython3",
   "version": "3.12.4"
  }
 },
 "nbformat": 4,
 "nbformat_minor": 2
}
